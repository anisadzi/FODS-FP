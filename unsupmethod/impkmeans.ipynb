{
 "cells": [
  {
   "cell_type": "code",
   "execution_count": 1,
   "id": "42132e5f-2210-478f-b03c-89316b091c28",
   "metadata": {},
   "outputs": [],
   "source": [
    "import matplotlib.pyplot as plt\n",
    "from sklearn.datasets import make_blobs\n",
    "from sklearn.cluster import KMeans\n",
    "from sklearn.preprocessing import StandardScaler\n",
    "import pandas as pd\n",
    "import numpy as np\n",
    "import matplotlib.pyplot as plt\n",
    "from pandas.plotting import parallel_coordinates\n",
    "from kneed import KneeLocator\n",
    "\n",
    "import warnings\n",
    "\n",
    "warnings.filterwarnings('ignore')"
   ]
  },
  {
   "cell_type": "code",
   "execution_count": 4,
   "id": "8997bf29-a742-4277-81e2-e8ff382351aa",
   "metadata": {},
   "outputs": [
    {
     "data": {
      "text/html": [
       "<div>\n",
       "<style scoped>\n",
       "    .dataframe tbody tr th:only-of-type {\n",
       "        vertical-align: middle;\n",
       "    }\n",
       "\n",
       "    .dataframe tbody tr th {\n",
       "        vertical-align: top;\n",
       "    }\n",
       "\n",
       "    .dataframe thead th {\n",
       "        text-align: right;\n",
       "    }\n",
       "</style>\n",
       "<table border=\"1\" class=\"dataframe\">\n",
       "  <thead>\n",
       "    <tr style=\"text-align: right;\">\n",
       "      <th></th>\n",
       "      <th>imports</th>\n",
       "      <th>2000</th>\n",
       "      <th>2001</th>\n",
       "      <th>2002</th>\n",
       "      <th>2003</th>\n",
       "      <th>2004</th>\n",
       "      <th>2005</th>\n",
       "      <th>2006</th>\n",
       "      <th>2007</th>\n",
       "      <th>2008</th>\n",
       "      <th>2009</th>\n",
       "      <th>2010</th>\n",
       "      <th>2011</th>\n",
       "      <th>2012</th>\n",
       "      <th>2013</th>\n",
       "      <th>2014</th>\n",
       "      <th>2015</th>\n",
       "      <th>2016</th>\n",
       "      <th>2017</th>\n",
       "      <th>2018</th>\n",
       "    </tr>\n",
       "  </thead>\n",
       "  <tbody>\n",
       "    <tr>\n",
       "      <th>0</th>\n",
       "      <td>Austria</td>\n",
       "      <td>1257.0</td>\n",
       "      <td>1432.0</td>\n",
       "      <td>1447.0</td>\n",
       "      <td>1336.0</td>\n",
       "      <td>1538.0</td>\n",
       "      <td>1577.0</td>\n",
       "      <td>1601.0</td>\n",
       "      <td>1968.0</td>\n",
       "      <td>1901.0</td>\n",
       "      <td>1309.0</td>\n",
       "      <td>1369.0</td>\n",
       "      <td>1452.0</td>\n",
       "      <td>1559.0</td>\n",
       "      <td>1555.0</td>\n",
       "      <td>0.0</td>\n",
       "      <td>0.0</td>\n",
       "      <td>0.0</td>\n",
       "      <td>0.0</td>\n",
       "      <td>0.0</td>\n",
       "    </tr>\n",
       "    <tr>\n",
       "      <th>1</th>\n",
       "      <td>Belgium</td>\n",
       "      <td>3491.0</td>\n",
       "      <td>3209.0</td>\n",
       "      <td>3792.0</td>\n",
       "      <td>3818.0</td>\n",
       "      <td>3968.0</td>\n",
       "      <td>4063.0</td>\n",
       "      <td>4605.0</td>\n",
       "      <td>4014.0</td>\n",
       "      <td>6792.0</td>\n",
       "      <td>5916.0</td>\n",
       "      <td>5924.0</td>\n",
       "      <td>5828.0</td>\n",
       "      <td>5668.0</td>\n",
       "      <td>5502.0</td>\n",
       "      <td>0.0</td>\n",
       "      <td>0.0</td>\n",
       "      <td>0.0</td>\n",
       "      <td>0.0</td>\n",
       "      <td>0.0</td>\n",
       "    </tr>\n",
       "    <tr>\n",
       "      <th>2</th>\n",
       "      <td>Bulgaria</td>\n",
       "      <td>281.0</td>\n",
       "      <td>355.0</td>\n",
       "      <td>343.0</td>\n",
       "      <td>400.0</td>\n",
       "      <td>367.0</td>\n",
       "      <td>441.0</td>\n",
       "      <td>435.0</td>\n",
       "      <td>393.0</td>\n",
       "      <td>517.0</td>\n",
       "      <td>523.0</td>\n",
       "      <td>528.0</td>\n",
       "      <td>482.0</td>\n",
       "      <td>560.0</td>\n",
       "      <td>609.0</td>\n",
       "      <td>0.0</td>\n",
       "      <td>0.0</td>\n",
       "      <td>0.0</td>\n",
       "      <td>0.0</td>\n",
       "      <td>0.0</td>\n",
       "    </tr>\n",
       "    <tr>\n",
       "      <th>3</th>\n",
       "      <td>Croatia</td>\n",
       "      <td>344.0</td>\n",
       "      <td>352.0</td>\n",
       "      <td>371.0</td>\n",
       "      <td>393.0</td>\n",
       "      <td>388.0</td>\n",
       "      <td>392.0</td>\n",
       "      <td>404.0</td>\n",
       "      <td>414.0</td>\n",
       "      <td>405.0</td>\n",
       "      <td>394.0</td>\n",
       "      <td>394.0</td>\n",
       "      <td>391.0</td>\n",
       "      <td>384.0</td>\n",
       "      <td>413.0</td>\n",
       "      <td>0.0</td>\n",
       "      <td>0.0</td>\n",
       "      <td>0.0</td>\n",
       "      <td>0.0</td>\n",
       "      <td>0.0</td>\n",
       "    </tr>\n",
       "    <tr>\n",
       "      <th>4</th>\n",
       "      <td>Cyprus</td>\n",
       "      <td>69.0</td>\n",
       "      <td>59.0</td>\n",
       "      <td>57.0</td>\n",
       "      <td>59.0</td>\n",
       "      <td>59.0</td>\n",
       "      <td>80.0</td>\n",
       "      <td>74.0</td>\n",
       "      <td>71.0</td>\n",
       "      <td>78.0</td>\n",
       "      <td>72.0</td>\n",
       "      <td>77.0</td>\n",
       "      <td>82.0</td>\n",
       "      <td>84.0</td>\n",
       "      <td>94.0</td>\n",
       "      <td>0.0</td>\n",
       "      <td>0.0</td>\n",
       "      <td>0.0</td>\n",
       "      <td>0.0</td>\n",
       "      <td>0.0</td>\n",
       "    </tr>\n",
       "  </tbody>\n",
       "</table>\n",
       "</div>"
      ],
      "text/plain": [
       "       imports    2000    2001    2002    2003    2004    2005    2006  \\\n",
       "0      Austria  1257.0  1432.0  1447.0  1336.0  1538.0  1577.0  1601.0   \n",
       "1      Belgium  3491.0  3209.0  3792.0  3818.0  3968.0  4063.0  4605.0   \n",
       "2     Bulgaria   281.0   355.0   343.0   400.0   367.0   441.0   435.0   \n",
       "3      Croatia   344.0   352.0   371.0   393.0   388.0   392.0   404.0   \n",
       "4       Cyprus    69.0    59.0    57.0    59.0    59.0    80.0    74.0   \n",
       "\n",
       "     2007    2008    2009    2010    2011    2012    2013  2014  2015  2016  \\\n",
       "0  1968.0  1901.0  1309.0  1369.0  1452.0  1559.0  1555.0   0.0   0.0   0.0   \n",
       "1  4014.0  6792.0  5916.0  5924.0  5828.0  5668.0  5502.0   0.0   0.0   0.0   \n",
       "2   393.0   517.0   523.0   528.0   482.0   560.0   609.0   0.0   0.0   0.0   \n",
       "3   414.0   405.0   394.0   394.0   391.0   384.0   413.0   0.0   0.0   0.0   \n",
       "4    71.0    78.0    72.0    77.0    82.0    84.0    94.0   0.0   0.0   0.0   \n",
       "\n",
       "   2017  2018  \n",
       "0   0.0   0.0  \n",
       "1   0.0   0.0  \n",
       "2   0.0   0.0  \n",
       "3   0.0   0.0  \n",
       "4   0.0   0.0  "
      ]
     },
     "execution_count": 4,
     "metadata": {},
     "output_type": "execute_result"
    }
   ],
   "source": [
    "df = pd.read_csv('importCleaned.csv')\n",
    "df.head()"
   ]
  },
  {
   "cell_type": "code",
   "execution_count": 11,
   "id": "f40ad650-e883-462c-9cd3-f7de3d2a482d",
   "metadata": {},
   "outputs": [
    {
     "name": "stdout",
     "output_type": "stream",
     "text": [
      "       2000     2013\n",
      "0    1257.0   1555.0\n",
      "1    3491.0   5502.0\n",
      "2     281.0    609.0\n",
      "3     344.0    413.0\n",
      "4      69.0     94.0\n",
      "5     809.0   1184.0\n",
      "6    1022.0    921.0\n",
      "7     105.0    156.0\n",
      "8    1063.0   1275.0\n",
      "9    6520.0   6713.0\n",
      "10  13895.0  21174.0\n",
      "11    798.0   1269.0\n",
      "12    790.0    557.0\n",
      "13    155.0    233.0\n",
      "14   6315.0   8823.0\n",
      "15    181.0    161.0\n",
      "16    213.0    362.0\n",
      "17    232.0    378.0\n",
      "18      9.0     22.0\n",
      "19   2966.0   3407.0\n",
      "20   2576.0   3284.0\n",
      "21    811.0   1063.0\n",
      "22    552.0    971.0\n",
      "23    286.0    798.0\n",
      "24    187.0    258.0\n",
      "25   3768.0   5137.0\n",
      "26   1344.0   1709.0\n",
      "27   3012.0   4206.0\n",
      "28   6908.0   8381.0\n",
      "29    662.0    781.0\n",
      "30   1890.0   4410.0\n",
      "31   1171.0   2667.0\n",
      "32    192.0    439.0\n",
      "33  23767.0  27016.0\n"
     ]
    }
   ],
   "source": [
    "#picking year 2013 because the data are missing for most country from 2014 onwards\n",
    "\n",
    "X = df.iloc[:34,[1,14]]\n",
    "print(X)"
   ]
  },
  {
   "cell_type": "code",
   "execution_count": 42,
   "id": "e09f9185-a0f9-4f8d-a1a3-5fb236f7a26e",
   "metadata": {},
   "outputs": [
    {
     "data": {
      "image/png": "[encoded data removed]",
      "text/plain": [
       "<Figure size 432x288 with 1 Axes>"
      ]
     },
     "metadata": {
      "needs_background": "light"
     },
     "output_type": "display_data"
    }
   ],
   "source": [
    "x_= df.iloc[:34,1]\n",
    "y_= df.iloc[:34,14]\n",
    "plt.scatter(\n",
    "   x_, y_,\n",
    "   c='white', marker='o',\n",
    "   edgecolor='black', s=50\n",
    ")\n",
    "plt.xlabel(\"Imports on 2000\")\n",
    "plt.ylabel(\"Imports on  2013\")\n",
    "plt.show()"
   ]
  },
  {
   "cell_type": "code",
   "execution_count": 43,
   "id": "104d2204-c039-4df1-9c58-1de5a518f634",
   "metadata": {},
   "outputs": [
    {
     "name": "stdout",
     "output_type": "stream",
     "text": [
      "[0 0 0 0 0 0 0 0 0 0 1 0 0 0 0 0 0 0 0 0 0 0 0 0 0 0 0 0 0 0 0 0 0 1]\n"
     ]
    }
   ],
   "source": [
    "kmeans = KMeans(n_clusters=2, random_state=0) \n",
    "\n",
    "label = kmeans.fit(X)\n",
    "labels = label.labels_\n",
    "y_kmeans = kmeans.fit_predict(X)\n",
    "print(y_kmeans)"
   ]
  },
  {
   "cell_type": "code",
   "execution_count": 51,
   "id": "079ade53-0472-49bc-a24c-bf59010127c8",
   "metadata": {},
   "outputs": [
    {
     "data": {
      "image/png": "[encoded data removed]",
      "text/plain": [
       "<Figure size 432x288 with 1 Axes>"
      ]
     },
     "metadata": {
      "needs_background": "light"
     },
     "output_type": "display_data"
    }
   ],
   "source": [
    "plt.scatter(\n",
    "    X.iloc[y_kmeans == 0, 0], X.iloc[y_kmeans == 0, 1],\n",
    "    s=34, c='lightgreen',\n",
    "    marker='s', edgecolor='black',\n",
    "    label='Cluster 1'\n",
    ")\n",
    "\n",
    "plt.scatter(\n",
    "    X.iloc[y_kmeans == 1, 0], X.iloc[y_kmeans == 1, 1],\n",
    "    s=34, c='orange',\n",
    "    marker='o', edgecolor='black',\n",
    "    label='Cluster2'\n",
    ")\n",
    "\n",
    "plt.scatter(\n",
    "    X.iloc[y_kmeans == 2, 0], X.iloc[y_kmeans == 2, 1],\n",
    "    s=34, c='lightblue',\n",
    "    marker='v', edgecolor='black',\n",
    "    label='Cluster 3'\n",
    ")\n",
    "\n",
    "plt.legend(scatterpoints=1)\n",
    "plt.grid()\n",
    "plt.xlabel(\"Imports on 2000\")\n",
    "plt.ylabel(\"Imports on 2013\")\n",
    "plt.show()"
   ]
  },
  {
   "cell_type": "code",
   "execution_count": 47,
   "id": "b97fcb70-5da1-4e25-9cf0-1313aeb5c2be",
   "metadata": {},
   "outputs": [
    {
     "data": {
      "text/plain": [
       "<matplotlib.collections.PathCollection at 0x21266d1f490>"
      ]
     },
     "execution_count": 47,
     "metadata": {},
     "output_type": "execute_result"
    },
    {
     "data": {
      "image/png": "[encoded data removed]",
      "text/plain": [
       "<Figure size 432x288 with 1 Axes>"
      ]
     },
     "metadata": {
      "needs_background": "light"
     },
     "output_type": "display_data"
    }
   ],
   "source": [
    "plt.scatter(\n",
    "    kmeans.cluster_centers_[:, 0], kmeans.cluster_centers_[:, 1],\n",
    "    s=250, marker='*',\n",
    "    c='red', edgecolor='black',\n",
    "    label='centroids'\n",
    ")"
   ]
  },
  {
   "cell_type": "code",
   "execution_count": 53,
   "id": "45246a23-6aec-4a46-9fcf-2c6722458944",
   "metadata": {},
   "outputs": [
    {
     "data": {
      "image/png": "[encoded data removed]",
      "text/plain": [
       "<Figure size 432x288 with 1 Axes>"
      ]
     },
     "metadata": {
      "needs_background": "light"
     },
     "output_type": "display_data"
    }
   ],
   "source": [
    "#combine\n",
    "\n",
    "plt.scatter(\n",
    "    X.iloc[y_kmeans == 0, 0], X.iloc[y_kmeans == 0, 1],\n",
    "    s=34, c='lightgreen',\n",
    "    marker='s', edgecolor='black',\n",
    "    label='Cluster 1'\n",
    ")\n",
    "\n",
    "plt.scatter(\n",
    "    X.iloc[y_kmeans == 1, 0], X.iloc[y_kmeans == 1, 1],\n",
    "    s=34, c='orange',\n",
    "    marker='o', edgecolor='black',\n",
    "    label='Cluster2'\n",
    ")\n",
    "\n",
    "plt.scatter(\n",
    "    X.iloc[y_kmeans == 2, 0], X.iloc[y_kmeans == 2, 1],\n",
    "    s=34, c='lightblue',\n",
    "    marker='v', edgecolor='black',\n",
    "    label='Cluster 3'\n",
    ")\n",
    "\n",
    "plt.scatter(\n",
    "    kmeans.cluster_centers_[:, 0], kmeans.cluster_centers_[:, 1],\n",
    "    s=250, marker='*',\n",
    "    c='red', edgecolor='black',\n",
    "    label='centroids'\n",
    ")\n",
    "\n",
    "plt.legend(scatterpoints=1)\n",
    "plt.grid()\n",
    "plt.xlabel(\"Imports on 2000\")\n",
    "plt.ylabel(\"Imports on 2013\")\n",
    "plt.show()"
   ]
  },
  {
   "cell_type": "code",
   "execution_count": 54,
   "id": "d4b2b8e4-a919-49c0-ae2d-f99845d4dc3f",
   "metadata": {},
   "outputs": [
    {
     "name": "stderr",
     "output_type": "stream",
     "text": [
      "C:\\Users\\NISA\\anaconda3\\lib\\site-packages\\sklearn\\cluster\\_kmeans.py:1036: UserWarning: KMeans is known to have a memory leak on Windows with MKL, when there are less chunks than available threads. You can avoid it by setting the environment variable OMP_NUM_THREADS=1.\n",
      "  warnings.warn(\n"
     ]
    },
    {
     "name": "stdout",
     "output_type": "stream",
     "text": [
      "1 [1842401717.2058825]\n",
      "2 [1842401717.2058825, 371786219.09375]\n",
      "3 [1842401717.2058825, 371786219.09375, 140454909.13043478]\n",
      "4 [1842401717.2058825, 371786219.09375, 140454909.13043478, 87478040.63043478]\n",
      "5 [1842401717.2058825, 371786219.09375, 140454909.13043478, 87478040.63043478, 78904832.49206348]\n",
      "6 [1842401717.2058825, 371786219.09375, 140454909.13043478, 87478040.63043478, 78904832.49206348, 76512680.55]\n",
      "7 [1842401717.2058825, 371786219.09375, 140454909.13043478, 87478040.63043478, 78904832.49206348, 76512680.55, 74306152.33333334]\n",
      "8 [1842401717.2058825, 371786219.09375, 140454909.13043478, 87478040.63043478, 78904832.49206348, 76512680.55, 74306152.33333334, 73764556.5]\n",
      "9 [1842401717.2058825, 371786219.09375, 140454909.13043478, 87478040.63043478, 78904832.49206348, 76512680.55, 74306152.33333334, 73764556.5, 71311378.56666666]\n",
      "10 [1842401717.2058825, 371786219.09375, 140454909.13043478, 87478040.63043478, 78904832.49206348, 76512680.55, 74306152.33333334, 73764556.5, 71311378.56666666, 9395211.48333333]\n",
      "11 [1842401717.2058825, 371786219.09375, 140454909.13043478, 87478040.63043478, 78904832.49206348, 76512680.55, 74306152.33333334, 73764556.5, 71311378.56666666, 9395211.48333333, 5041018.3999999985]\n",
      "12 [1842401717.2058825, 371786219.09375, 140454909.13043478, 87478040.63043478, 78904832.49206348, 76512680.55, 74306152.33333334, 73764556.5, 71311378.56666666, 9395211.48333333, 5041018.3999999985, 5012066.666666667]\n",
      "13 [1842401717.2058825, 371786219.09375, 140454909.13043478, 87478040.63043478, 78904832.49206348, 76512680.55, 74306152.33333334, 73764556.5, 71311378.56666666, 9395211.48333333, 5041018.3999999985, 5012066.666666667, 4968936.2333333315]\n",
      "14 [1842401717.2058825, 371786219.09375, 140454909.13043478, 87478040.63043478, 78904832.49206348, 76512680.55, 74306152.33333334, 73764556.5, 71311378.56666666, 9395211.48333333, 5041018.3999999985, 5012066.666666667, 4968936.2333333315, 4792884.916666666]\n",
      "15 [1842401717.2058825, 371786219.09375, 140454909.13043478, 87478040.63043478, 78904832.49206348, 76512680.55, 74306152.33333334, 73764556.5, 71311378.56666666, 9395211.48333333, 5041018.3999999985, 5012066.666666667, 4968936.2333333315, 4792884.916666666, 4781651.916666666]\n",
      "16 [1842401717.2058825, 371786219.09375, 140454909.13043478, 87478040.63043478, 78904832.49206348, 76512680.55, 74306152.33333334, 73764556.5, 71311378.56666666, 9395211.48333333, 5041018.3999999985, 5012066.666666667, 4968936.2333333315, 4792884.916666666, 4781651.916666666, 3634956.499999999]\n",
      "17 [1842401717.2058825, 371786219.09375, 140454909.13043478, 87478040.63043478, 78904832.49206348, 76512680.55, 74306152.33333334, 73764556.5, 71311378.56666666, 9395211.48333333, 5041018.3999999985, 5012066.666666667, 4968936.2333333315, 4792884.916666666, 4781651.916666666, 3634956.499999999, 3596121.249999999]\n",
      "18 [1842401717.2058825, 371786219.09375, 140454909.13043478, 87478040.63043478, 78904832.49206348, 76512680.55, 74306152.33333334, 73764556.5, 71311378.56666666, 9395211.48333333, 5041018.3999999985, 5012066.666666667, 4968936.2333333315, 4792884.916666666, 4781651.916666666, 3634956.499999999, 3596121.249999999, 1211659.0833333335]\n",
      "19 [1842401717.2058825, 371786219.09375, 140454909.13043478, 87478040.63043478, 78904832.49206348, 76512680.55, 74306152.33333334, 73764556.5, 71311378.56666666, 9395211.48333333, 5041018.3999999985, 5012066.666666667, 4968936.2333333315, 4792884.916666666, 4781651.916666666, 3634956.499999999, 3596121.249999999, 1211659.0833333335, 1190476.1666666667]\n",
      "20 [1842401717.2058825, 371786219.09375, 140454909.13043478, 87478040.63043478, 78904832.49206348, 76512680.55, 74306152.33333334, 73764556.5, 71311378.56666666, 9395211.48333333, 5041018.3999999985, 5012066.666666667, 4968936.2333333315, 4792884.916666666, 4781651.916666666, 3634956.499999999, 3596121.249999999, 1211659.0833333335, 1190476.1666666667, 1109489.5]\n",
      "21 [1842401717.2058825, 371786219.09375, 140454909.13043478, 87478040.63043478, 78904832.49206348, 76512680.55, 74306152.33333334, 73764556.5, 71311378.56666666, 9395211.48333333, 5041018.3999999985, 5012066.666666667, 4968936.2333333315, 4792884.916666666, 4781651.916666666, 3634956.499999999, 3596121.249999999, 1211659.0833333335, 1190476.1666666667, 1109489.5, 1004512.5000000001]\n",
      "22 [1842401717.2058825, 371786219.09375, 140454909.13043478, 87478040.63043478, 78904832.49206348, 76512680.55, 74306152.33333334, 73764556.5, 71311378.56666666, 9395211.48333333, 5041018.3999999985, 5012066.666666667, 4968936.2333333315, 4792884.916666666, 4781651.916666666, 3634956.499999999, 3596121.249999999, 1211659.0833333335, 1190476.1666666667, 1109489.5, 1004512.5000000001, 971232.5000000001]\n",
      "23 [1842401717.2058825, 371786219.09375, 140454909.13043478, 87478040.63043478, 78904832.49206348, 76512680.55, 74306152.33333334, 73764556.5, 71311378.56666666, 9395211.48333333, 5041018.3999999985, 5012066.666666667, 4968936.2333333315, 4792884.916666666, 4781651.916666666, 3634956.499999999, 3596121.249999999, 1211659.0833333335, 1190476.1666666667, 1109489.5, 1004512.5000000001, 971232.5000000001, 562264.5]\n",
      "24 [1842401717.2058825, 371786219.09375, 140454909.13043478, 87478040.63043478, 78904832.49206348, 76512680.55, 74306152.33333334, 73764556.5, 71311378.56666666, 9395211.48333333, 5041018.3999999985, 5012066.666666667, 4968936.2333333315, 4792884.916666666, 4781651.916666666, 3634956.499999999, 3596121.249999999, 1211659.0833333335, 1190476.1666666667, 1109489.5, 1004512.5000000001, 971232.5000000001, 562264.5, 527134.0]\n",
      "25 [1842401717.2058825, 371786219.09375, 140454909.13043478, 87478040.63043478, 78904832.49206348, 76512680.55, 74306152.33333334, 73764556.5, 71311378.56666666, 9395211.48333333, 5041018.3999999985, 5012066.666666667, 4968936.2333333315, 4792884.916666666, 4781651.916666666, 3634956.499999999, 3596121.249999999, 1211659.0833333335, 1190476.1666666667, 1109489.5, 1004512.5000000001, 971232.5000000001, 562264.5, 527134.0, 524233.5]\n",
      "26 [1842401717.2058825, 371786219.09375, 140454909.13043478, 87478040.63043478, 78904832.49206348, 76512680.55, 74306152.33333334, 73764556.5, 71311378.56666666, 9395211.48333333, 5041018.3999999985, 5012066.666666667, 4968936.2333333315, 4792884.916666666, 4781651.916666666, 3634956.499999999, 3596121.249999999, 1211659.0833333335, 1190476.1666666667, 1109489.5, 1004512.5000000001, 971232.5000000001, 562264.5, 527134.0, 524233.5, 519841.5]\n",
      "27 [1842401717.2058825, 371786219.09375, 140454909.13043478, 87478040.63043478, 78904832.49206348, 76512680.55, 74306152.33333334, 73764556.5, 71311378.56666666, 9395211.48333333, 5041018.3999999985, 5012066.666666667, 4968936.2333333315, 4792884.916666666, 4781651.916666666, 3634956.499999999, 3596121.249999999, 1211659.0833333335, 1190476.1666666667, 1109489.5, 1004512.5000000001, 971232.5000000001, 562264.5, 527134.0, 524233.5, 519841.5, 400737.5]\n",
      "28 [1842401717.2058825, 371786219.09375, 140454909.13043478, 87478040.63043478, 78904832.49206348, 76512680.55, 74306152.33333334, 73764556.5, 71311378.56666666, 9395211.48333333, 5041018.3999999985, 5012066.666666667, 4968936.2333333315, 4792884.916666666, 4781651.916666666, 3634956.499999999, 3596121.249999999, 1211659.0833333335, 1190476.1666666667, 1109489.5, 1004512.5000000001, 971232.5000000001, 562264.5, 527134.0, 524233.5, 519841.5, 400737.5, 246026.5]\n",
      "29 [1842401717.2058825, 371786219.09375, 140454909.13043478, 87478040.63043478, 78904832.49206348, 76512680.55, 74306152.33333334, 73764556.5, 71311378.56666666, 9395211.48333333, 5041018.3999999985, 5012066.666666667, 4968936.2333333315, 4792884.916666666, 4781651.916666666, 3634956.499999999, 3596121.249999999, 1211659.0833333335, 1190476.1666666667, 1109489.5, 1004512.5000000001, 971232.5000000001, 562264.5, 527134.0, 524233.5, 519841.5, 400737.5, 246026.5, 136852.66666666666]\n",
      "30 [1842401717.2058825, 371786219.09375, 140454909.13043478, 87478040.63043478, 78904832.49206348, 76512680.55, 74306152.33333334, 73764556.5, 71311378.56666666, 9395211.48333333, 5041018.3999999985, 5012066.666666667, 4968936.2333333315, 4792884.916666666, 4781651.916666666, 3634956.499999999, 3596121.249999999, 1211659.0833333335, 1190476.1666666667, 1109489.5, 1004512.5000000001, 971232.5000000001, 562264.5, 527134.0, 524233.5, 519841.5, 400737.5, 246026.5, 136852.66666666666, 38614.75]\n",
      "31 [1842401717.2058825, 371786219.09375, 140454909.13043478, 87478040.63043478, 78904832.49206348, 76512680.55, 74306152.33333334, 73764556.5, 71311378.56666666, 9395211.48333333, 5041018.3999999985, 5012066.666666667, 4968936.2333333315, 4792884.916666666, 4781651.916666666, 3634956.499999999, 3596121.249999999, 1211659.0833333335, 1190476.1666666667, 1109489.5, 1004512.5000000001, 971232.5000000001, 562264.5, 527134.0, 524233.5, 519841.5, 400737.5, 246026.5, 136852.66666666666, 38614.75, 14615.0]\n",
      "32 [1842401717.2058825, 371786219.09375, 140454909.13043478, 87478040.63043478, 78904832.49206348, 76512680.55, 74306152.33333334, 73764556.5, 71311378.56666666, 9395211.48333333, 5041018.3999999985, 5012066.666666667, 4968936.2333333315, 4792884.916666666, 4781651.916666666, 3634956.499999999, 3596121.249999999, 1211659.0833333335, 1190476.1666666667, 1109489.5, 1004512.5000000001, 971232.5000000001, 562264.5, 527134.0, 524233.5, 519841.5, 400737.5, 246026.5, 136852.66666666666, 38614.75, 14615.0, 3981.5]\n",
      "33 [1842401717.2058825, 371786219.09375, 140454909.13043478, 87478040.63043478, 78904832.49206348, 76512680.55, 74306152.33333334, 73764556.5, 71311378.56666666, 9395211.48333333, 5041018.3999999985, 5012066.666666667, 4968936.2333333315, 4792884.916666666, 4781651.916666666, 3634956.499999999, 3596121.249999999, 1211659.0833333335, 1190476.1666666667, 1109489.5, 1004512.5000000001, 971232.5000000001, 562264.5, 527134.0, 524233.5, 519841.5, 400737.5, 246026.5, 136852.66666666666, 38614.75, 14615.0, 3981.5, 308.5]\n",
      "34 [1842401717.2058825, 371786219.09375, 140454909.13043478, 87478040.63043478, 78904832.49206348, 76512680.55, 74306152.33333334, 73764556.5, 71311378.56666666, 9395211.48333333, 5041018.3999999985, 5012066.666666667, 4968936.2333333315, 4792884.916666666, 4781651.916666666, 3634956.499999999, 3596121.249999999, 1211659.0833333335, 1190476.1666666667, 1109489.5, 1004512.5000000001, 971232.5000000001, 562264.5, 527134.0, 524233.5, 519841.5, 400737.5, 246026.5, 136852.66666666666, 38614.75, 14615.0, 3981.5, 308.5, 0.0]\n"
     ]
    }
   ],
   "source": [
    "distortions = []\n",
    "for i in range(1, 35):\n",
    "    kmeans = KMeans(\n",
    "        n_clusters=i, init='random',\n",
    "        n_init=10, max_iter=300,\n",
    "        tol=1e-04, random_state=0\n",
    "    )\n",
    "    kmeans.fit(X)\n",
    "    distortions.append(kmeans.inertia_)\n",
    "    print(i, distortions)\n"
   ]
  },
  {
   "cell_type": "code",
   "execution_count": 55,
   "id": "54228923-415f-437e-90d0-2759d7c8773f",
   "metadata": {},
   "outputs": [
    {
     "data": {
      "text/plain": [
       "3"
      ]
     },
     "execution_count": 55,
     "metadata": {},
     "output_type": "execute_result"
    }
   ],
   "source": [
    "kl = KneeLocator(range(1, 35), distortions, curve=\"convex\", direction=\"decreasing\")\n",
    "kl.elbow"
   ]
  },
  {
   "cell_type": "code",
   "execution_count": 56,
   "id": "a0088698-3855-4c79-97f0-46e210b69a7a",
   "metadata": {},
   "outputs": [
    {
     "data": {
      "image/png": "[encoded data removed]",
      "text/plain": [
       "<Figure size 432x288 with 1 Axes>"
      ]
     },
     "metadata": {
      "needs_background": "light"
     },
     "output_type": "display_data"
    }
   ],
   "source": [
    "plt.plot(range(1, 35), distortions, marker='o')\n",
    "plt.xlabel('Number of clusters')\n",
    "plt.ylabel('Distortion')\n",
    "plt.show()"
   ]
  }
 ],
 "metadata": {
  "kernelspec": {
   "display_name": "Python 3 (ipykernel)",
   "language": "python",
   "name": "python3"
  },
  "language_info": {
   "codemirror_mode": {
    "name": "ipython",
    "version": 3
   },
   "file_extension": ".py",
   "mimetype": "text/x-python",
   "name": "python",
   "nbconvert_exporter": "python",
   "pygments_lexer": "ipython3",
   "version": "3.9.12"
  }
 },
 "nbformat": 4,
 "nbformat_minor": 5
}
