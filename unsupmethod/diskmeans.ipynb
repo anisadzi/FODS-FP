{
 "cells": [
  {
   "cell_type": "code",
   "execution_count": 1,
   "id": "88269052-9c0e-4e58-8b45-2f878ae98736",
   "metadata": {},
   "outputs": [],
   "source": [
    "import matplotlib.pyplot as plt\n",
    "from sklearn.datasets import make_blobs\n",
    "from sklearn.cluster import KMeans\n",
    "from sklearn.preprocessing import StandardScaler\n",
    "import pandas as pd\n",
    "import numpy as np\n",
    "import matplotlib.pyplot as plt\n",
    "from pandas.plotting import parallel_coordinates\n",
    "from kneed import KneeLocator\n",
    "\n",
    "import warnings\n",
    "\n",
    "warnings.filterwarnings('ignore')"
   ]
  },
  {
   "cell_type": "code",
   "execution_count": 2,
   "id": "1135041c-1203-4899-85ce-e04c2441bca1",
   "metadata": {},
   "outputs": [
    {
     "data": {
      "text/html": [
       "<div>\n",
       "<style scoped>\n",
       "    .dataframe tbody tr th:only-of-type {\n",
       "        vertical-align: middle;\n",
       "    }\n",
       "\n",
       "    .dataframe tbody tr th {\n",
       "        vertical-align: top;\n",
       "    }\n",
       "\n",
       "    .dataframe thead th {\n",
       "        text-align: right;\n",
       "    }\n",
       "</style>\n",
       "<table border=\"1\" class=\"dataframe\">\n",
       "  <thead>\n",
       "    <tr style=\"text-align: right;\">\n",
       "      <th></th>\n",
       "      <th>disappearance</th>\n",
       "      <th>2000</th>\n",
       "      <th>2001</th>\n",
       "      <th>2002</th>\n",
       "      <th>2003</th>\n",
       "      <th>2004</th>\n",
       "      <th>2005</th>\n",
       "      <th>2006</th>\n",
       "      <th>2007</th>\n",
       "      <th>2008</th>\n",
       "      <th>2009</th>\n",
       "      <th>2010</th>\n",
       "      <th>2011</th>\n",
       "      <th>2012</th>\n",
       "      <th>2013</th>\n",
       "      <th>2014</th>\n",
       "      <th>2015</th>\n",
       "      <th>2016</th>\n",
       "      <th>2017</th>\n",
       "      <th>2018</th>\n",
       "    </tr>\n",
       "  </thead>\n",
       "  <tbody>\n",
       "    <tr>\n",
       "      <th>0</th>\n",
       "      <td>Austria</td>\n",
       "      <td>874.731279</td>\n",
       "      <td>1012.663974</td>\n",
       "      <td>926.026869</td>\n",
       "      <td>719.572364</td>\n",
       "      <td>995.823775</td>\n",
       "      <td>772.066135</td>\n",
       "      <td>612.470646</td>\n",
       "      <td>846.815657</td>\n",
       "      <td>907.886818</td>\n",
       "      <td>885.715848</td>\n",
       "      <td>902.854329</td>\n",
       "      <td>1117.345643</td>\n",
       "      <td>1269.019458</td>\n",
       "      <td>1249.0</td>\n",
       "      <td>0.0</td>\n",
       "      <td>0.0</td>\n",
       "      <td>0.0</td>\n",
       "      <td>0.0</td>\n",
       "      <td>0.0</td>\n",
       "    </tr>\n",
       "    <tr>\n",
       "      <th>1</th>\n",
       "      <td>Belgium</td>\n",
       "      <td>1133.360563</td>\n",
       "      <td>884.233268</td>\n",
       "      <td>1484.300964</td>\n",
       "      <td>1579.418571</td>\n",
       "      <td>1396.235438</td>\n",
       "      <td>1158.037756</td>\n",
       "      <td>1537.413085</td>\n",
       "      <td>1103.118346</td>\n",
       "      <td>649.930516</td>\n",
       "      <td>934.292881</td>\n",
       "      <td>870.665179</td>\n",
       "      <td>934.468749</td>\n",
       "      <td>914.636559</td>\n",
       "      <td>1245.0</td>\n",
       "      <td>0.0</td>\n",
       "      <td>0.0</td>\n",
       "      <td>0.0</td>\n",
       "      <td>0.0</td>\n",
       "      <td>0.0</td>\n",
       "    </tr>\n",
       "    <tr>\n",
       "      <th>2</th>\n",
       "      <td>Bulgaria</td>\n",
       "      <td>275.084816</td>\n",
       "      <td>350.399596</td>\n",
       "      <td>340.568697</td>\n",
       "      <td>397.314698</td>\n",
       "      <td>364.190796</td>\n",
       "      <td>430.013986</td>\n",
       "      <td>420.382519</td>\n",
       "      <td>364.189968</td>\n",
       "      <td>444.717889</td>\n",
       "      <td>409.275903</td>\n",
       "      <td>395.357991</td>\n",
       "      <td>359.519751</td>\n",
       "      <td>375.941251</td>\n",
       "      <td>419.0</td>\n",
       "      <td>0.0</td>\n",
       "      <td>0.0</td>\n",
       "      <td>0.0</td>\n",
       "      <td>0.0</td>\n",
       "      <td>0.0</td>\n",
       "    </tr>\n",
       "    <tr>\n",
       "      <th>3</th>\n",
       "      <td>Croatia</td>\n",
       "      <td>327.123995</td>\n",
       "      <td>336.767996</td>\n",
       "      <td>354.862995</td>\n",
       "      <td>375.427996</td>\n",
       "      <td>370.009547</td>\n",
       "      <td>373.753059</td>\n",
       "      <td>386.132852</td>\n",
       "      <td>386.334464</td>\n",
       "      <td>377.142185</td>\n",
       "      <td>365.637529</td>\n",
       "      <td>369.838593</td>\n",
       "      <td>367.153143</td>\n",
       "      <td>360.364120</td>\n",
       "      <td>387.0</td>\n",
       "      <td>0.0</td>\n",
       "      <td>0.0</td>\n",
       "      <td>0.0</td>\n",
       "      <td>0.0</td>\n",
       "      <td>0.0</td>\n",
       "    </tr>\n",
       "    <tr>\n",
       "      <th>4</th>\n",
       "      <td>Cyprus</td>\n",
       "      <td>66.796997</td>\n",
       "      <td>52.891097</td>\n",
       "      <td>51.378797</td>\n",
       "      <td>53.095997</td>\n",
       "      <td>59.812396</td>\n",
       "      <td>69.647505</td>\n",
       "      <td>55.495666</td>\n",
       "      <td>69.284049</td>\n",
       "      <td>77.293095</td>\n",
       "      <td>75.437867</td>\n",
       "      <td>73.905648</td>\n",
       "      <td>80.793525</td>\n",
       "      <td>85.398320</td>\n",
       "      <td>89.0</td>\n",
       "      <td>0.0</td>\n",
       "      <td>0.0</td>\n",
       "      <td>0.0</td>\n",
       "      <td>0.0</td>\n",
       "      <td>0.0</td>\n",
       "    </tr>\n",
       "  </tbody>\n",
       "</table>\n",
       "</div>"
      ],
      "text/plain": [
       "  disappearance         2000         2001         2002         2003  \\\n",
       "0       Austria   874.731279  1012.663974   926.026869   719.572364   \n",
       "1       Belgium  1133.360563   884.233268  1484.300964  1579.418571   \n",
       "2      Bulgaria   275.084816   350.399596   340.568697   397.314698   \n",
       "3       Croatia   327.123995   336.767996   354.862995   375.427996   \n",
       "4        Cyprus    66.796997    52.891097    51.378797    53.095997   \n",
       "\n",
       "          2004         2005         2006         2007        2008        2009  \\\n",
       "0   995.823775   772.066135   612.470646   846.815657  907.886818  885.715848   \n",
       "1  1396.235438  1158.037756  1537.413085  1103.118346  649.930516  934.292881   \n",
       "2   364.190796   430.013986   420.382519   364.189968  444.717889  409.275903   \n",
       "3   370.009547   373.753059   386.132852   386.334464  377.142185  365.637529   \n",
       "4    59.812396    69.647505    55.495666    69.284049   77.293095   75.437867   \n",
       "\n",
       "         2010         2011         2012    2013  2014  2015  2016  2017  2018  \n",
       "0  902.854329  1117.345643  1269.019458  1249.0   0.0   0.0   0.0   0.0   0.0  \n",
       "1  870.665179   934.468749   914.636559  1245.0   0.0   0.0   0.0   0.0   0.0  \n",
       "2  395.357991   359.519751   375.941251   419.0   0.0   0.0   0.0   0.0   0.0  \n",
       "3  369.838593   367.153143   360.364120   387.0   0.0   0.0   0.0   0.0   0.0  \n",
       "4   73.905648    80.793525    85.398320    89.0   0.0   0.0   0.0   0.0   0.0  "
      ]
     },
     "execution_count": 2,
     "metadata": {},
     "output_type": "execute_result"
    }
   ],
   "source": [
    "df = pd.read_csv('disCleaned.csv')\n",
    "df.head()"
   ]
  },
  {
   "cell_type": "code",
   "execution_count": 3,
   "id": "61525281-8f5b-4e2f-8162-0e90e908eaa9",
   "metadata": {},
   "outputs": [
    {
     "name": "stdout",
     "output_type": "stream",
     "text": [
      "            2000     2013\n",
      "0     874.731279   1249.0\n",
      "1    1133.360563   1245.0\n",
      "2     275.084816    419.0\n",
      "3     327.123995    387.0\n",
      "4      66.796997     89.0\n",
      "5     560.226396    637.0\n",
      "6     790.643989    822.0\n",
      "7      97.338603    120.0\n",
      "8     967.218994   1095.0\n",
      "9    5402.080678   5707.0\n",
      "10   8769.880653   9378.0\n",
      "11    687.435658   1101.0\n",
      "12    632.937172    177.0\n",
      "13     83.158199    196.0\n",
      "14   5149.236346   5634.0\n",
      "15    161.794837     95.0\n",
      "16    173.243675    197.0\n",
      "17    144.159996    241.0\n",
      "18      8.810502     22.0\n",
      "19   1859.771680   1625.0\n",
      "20   2045.587692   1669.0\n",
      "21    646.394092    840.0\n",
      "22    551.025995    891.0\n",
      "23    263.315742    328.0\n",
      "24    172.664142    184.0\n",
      "25   2991.363838   3234.0\n",
      "26   1173.089486   1175.0\n",
      "27   2342.282593   2828.0\n",
      "28   6625.659910   7435.0\n",
      "29    657.200694    763.0\n",
      "30   1863.096808   3648.0\n",
      "31    826.930028   1123.0\n",
      "32    191.742555    429.0\n",
      "33  18745.563718  23417.0\n"
     ]
    }
   ],
   "source": [
    "#picking year 2013 because the data are missing for most country from 2014 onwards\n",
    "\n",
    "X = df.iloc[:34,[1,14]]\n",
    "print(X)"
   ]
  },
  {
   "cell_type": "code",
   "execution_count": 4,
   "id": "f99359d9-c4ee-4134-b16f-ee6efb97b52a",
   "metadata": {},
   "outputs": [
    {
     "data": {
      "image/png": "[encoded data removed]",
      "text/plain": [
       "<Figure size 432x288 with 1 Axes>"
      ]
     },
     "metadata": {
      "needs_background": "light"
     },
     "output_type": "display_data"
    }
   ],
   "source": [
    "x_= df.iloc[:34,1]\n",
    "y_= df.iloc[:34,14]\n",
    "plt.scatter(\n",
    "   x_, y_,\n",
    "   c='white', marker='o',\n",
    "   edgecolor='black', s=50\n",
    ")\n",
    "plt.xlabel(\"Disappearance on 2000\")\n",
    "plt.ylabel(\"Disappearance on  2013\")\n",
    "plt.show()"
   ]
  },
  {
   "cell_type": "code",
   "execution_count": 5,
   "id": "d544f1d4-bf85-43e9-97ce-4d48c0840663",
   "metadata": {},
   "outputs": [
    {
     "name": "stdout",
     "output_type": "stream",
     "text": [
      "[0 0 0 0 0 0 0 0 0 0 0 0 0 0 0 0 0 0 0 0 0 0 0 0 0 0 0 0 0 0 0 0 0 1]\n"
     ]
    }
   ],
   "source": [
    "kmeans = KMeans(n_clusters=2, random_state=0) \n",
    "\n",
    "label = kmeans.fit(X)\n",
    "labels = label.labels_\n",
    "y_kmeans = kmeans.fit_predict(X)\n",
    "print(y_kmeans)"
   ]
  },
  {
   "cell_type": "code",
   "execution_count": 6,
   "id": "13196baf-e0d1-4b3c-9706-8fc5e272c515",
   "metadata": {},
   "outputs": [
    {
     "data": {
      "image/png": "[encoded data removed]",
      "text/plain": [
       "<Figure size 432x288 with 1 Axes>"
      ]
     },
     "metadata": {
      "needs_background": "light"
     },
     "output_type": "display_data"
    }
   ],
   "source": [
    "plt.scatter(\n",
    "    X.iloc[y_kmeans == 0, 0], X.iloc[y_kmeans == 0, 1],\n",
    "    s=34, c='lightgreen',\n",
    "    marker='s', edgecolor='black',\n",
    "    label='Cluster 1'\n",
    ")\n",
    "\n",
    "plt.scatter(\n",
    "    X.iloc[y_kmeans == 1, 0], X.iloc[y_kmeans == 1, 1],\n",
    "    s=34, c='orange',\n",
    "    marker='o', edgecolor='black',\n",
    "    label='Cluster2'\n",
    ")\n",
    "\n",
    "plt.scatter(\n",
    "    X.iloc[y_kmeans == 2, 0], X.iloc[y_kmeans == 2, 1],\n",
    "    s=34, c='lightblue',\n",
    "    marker='v', edgecolor='black',\n",
    "    label='Cluster 3'\n",
    ")\n",
    "\n",
    "\n",
    "plt.legend(scatterpoints=1)\n",
    "plt.grid()\n",
    "plt.xlabel(\"Disappearance on 2000\")\n",
    "plt.ylabel(\"Disappearance on 2013\")\n",
    "plt.show()"
   ]
  },
  {
   "cell_type": "code",
   "execution_count": 7,
   "id": "47945e6d-2f0e-48c4-9955-a313d128e705",
   "metadata": {},
   "outputs": [
    {
     "data": {
      "text/plain": [
       "<matplotlib.collections.PathCollection at 0x203fb043b20>"
      ]
     },
     "execution_count": 7,
     "metadata": {},
     "output_type": "execute_result"
    },
    {
     "data": {
      "image/png": "[encoded data removed]",
      "text/plain": [
       "<Figure size 432x288 with 1 Axes>"
      ]
     },
     "metadata": {
      "needs_background": "light"
     },
     "output_type": "display_data"
    }
   ],
   "source": [
    "plt.scatter(\n",
    "    kmeans.cluster_centers_[:, 0], kmeans.cluster_centers_[:, 1],\n",
    "    s=250, marker='*',\n",
    "    c='red', edgecolor='black',\n",
    "    label='centroids'\n",
    ")"
   ]
  },
  {
   "cell_type": "code",
   "execution_count": 8,
   "id": "9848eac4-cfb1-4223-9246-0284daa8997c",
   "metadata": {},
   "outputs": [
    {
     "data": {
      "image/png": "[encoded data removed]",
      "text/plain": [
       "<Figure size 432x288 with 1 Axes>"
      ]
     },
     "metadata": {
      "needs_background": "light"
     },
     "output_type": "display_data"
    }
   ],
   "source": [
    "#combine\n",
    "\n",
    "plt.scatter(\n",
    "    X.iloc[y_kmeans == 0, 0], X.iloc[y_kmeans == 0, 1],\n",
    "    s=34, c='lightgreen',\n",
    "    marker='s', edgecolor='black',\n",
    "    label='Cluster 1'\n",
    ")\n",
    "\n",
    "plt.scatter(\n",
    "    X.iloc[y_kmeans == 1, 0], X.iloc[y_kmeans == 1, 1],\n",
    "    s=34, c='orange',\n",
    "    marker='o', edgecolor='black',\n",
    "    label='Cluster2'\n",
    ")\n",
    "\n",
    "plt.scatter(\n",
    "    X.iloc[y_kmeans == 2, 0], X.iloc[y_kmeans == 2, 1],\n",
    "    s=34, c='lightblue',\n",
    "    marker='v', edgecolor='black',\n",
    "    label='Cluster 3'\n",
    ")\n",
    "\n",
    "plt.scatter(\n",
    "    kmeans.cluster_centers_[:, 0], kmeans.cluster_centers_[:, 1],\n",
    "    s=250, marker='*',\n",
    "    c='red', edgecolor='black',\n",
    "    label='centroids'\n",
    ")\n",
    "\n",
    "\n",
    "plt.legend(scatterpoints=1)\n",
    "plt.grid()\n",
    "plt.xlabel(\"Disappearance on 2000\")\n",
    "plt.ylabel(\"Disappearance on 2013\")\n",
    "plt.show()"
   ]
  },
  {
   "cell_type": "code",
   "execution_count": 9,
   "id": "8a1c4730-6c7d-4479-933d-d717e0993199",
   "metadata": {},
   "outputs": [
    {
     "name": "stdout",
     "output_type": "stream",
     "text": [
      "1 [1053298008.1102934]\n",
      "2 [1053298008.1102934, 304451458.0907381]\n",
      "3 [1053298008.1102934, 304451458.0907381, 58531301.27757579]\n",
      "4 [1053298008.1102934, 304451458.0907381, 58531301.27757579, 29001019.993354958]\n",
      "5 [1053298008.1102934, 304451458.0907381, 58531301.27757579, 29001019.993354958, 15648698.568920119]\n",
      "6 [1053298008.1102934, 304451458.0907381, 58531301.27757579, 29001019.993354958, 15648698.568920119, 9899740.919238245]\n",
      "7 [1053298008.1102934, 304451458.0907381, 58531301.27757579, 29001019.993354958, 15648698.568920119, 9899740.919238245, 7050695.285163904]\n",
      "8 [1053298008.1102934, 304451458.0907381, 58531301.27757579, 29001019.993354958, 15648698.568920119, 9899740.919238245, 7050695.285163904, 5996840.082841263]\n",
      "9 [1053298008.1102934, 304451458.0907381, 58531301.27757579, 29001019.993354958, 15648698.568920119, 9899740.919238245, 7050695.285163904, 5996840.082841263, 5967652.716621135]\n",
      "10 [1053298008.1102934, 304451458.0907381, 58531301.27757579, 29001019.993354958, 15648698.568920119, 9899740.919238245, 7050695.285163904, 5996840.082841263, 5967652.716621135, 5675025.149410281]\n",
      "11 [1053298008.1102934, 304451458.0907381, 58531301.27757579, 29001019.993354958, 15648698.568920119, 9899740.919238245, 7050695.285163904, 5996840.082841263, 5967652.716621135, 5675025.149410281, 5537276.174419092]\n",
      "12 [1053298008.1102934, 304451458.0907381, 58531301.27757579, 29001019.993354958, 15648698.568920119, 9899740.919238245, 7050695.285163904, 5996840.082841263, 5967652.716621135, 5675025.149410281, 5537276.174419092, 5532976.299748272]\n",
      "13 [1053298008.1102934, 304451458.0907381, 58531301.27757579, 29001019.993354958, 15648698.568920119, 9899740.919238245, 7050695.285163904, 5996840.082841263, 5967652.716621135, 5675025.149410281, 5537276.174419092, 5532976.299748272, 5358818.734882958]\n",
      "14 [1053298008.1102934, 304451458.0907381, 58531301.27757579, 29001019.993354958, 15648698.568920119, 9899740.919238245, 7050695.285163904, 5996840.082841263, 5967652.716621135, 5675025.149410281, 5537276.174419092, 5532976.299748272, 5358818.734882958, 5321451.343627482]\n",
      "15 [1053298008.1102934, 304451458.0907381, 58531301.27757579, 29001019.993354958, 15648698.568920119, 9899740.919238245, 7050695.285163904, 5996840.082841263, 5967652.716621135, 5675025.149410281, 5537276.174419092, 5532976.299748272, 5358818.734882958, 5321451.343627482, 5300444.224094604]\n",
      "16 [1053298008.1102934, 304451458.0907381, 58531301.27757579, 29001019.993354958, 15648698.568920119, 9899740.919238245, 7050695.285163904, 5996840.082841263, 5967652.716621135, 5675025.149410281, 5537276.174419092, 5532976.299748272, 5358818.734882958, 5321451.343627482, 5300444.224094604, 3924913.5005194326]\n",
      "17 [1053298008.1102934, 304451458.0907381, 58531301.27757579, 29001019.993354958, 15648698.568920119, 9899740.919238245, 7050695.285163904, 5996840.082841263, 5967652.716621135, 5675025.149410281, 5537276.174419092, 5532976.299748272, 5358818.734882958, 5321451.343627482, 5300444.224094604, 3924913.5005194326, 3910910.555431956]\n",
      "18 [1053298008.1102934, 304451458.0907381, 58531301.27757579, 29001019.993354958, 15648698.568920119, 9899740.919238245, 7050695.285163904, 5996840.082841263, 5967652.716621135, 5675025.149410281, 5537276.174419092, 5532976.299748272, 5358818.734882958, 5321451.343627482, 5300444.224094604, 3924913.5005194326, 3910910.555431956, 620267.8726339871]\n",
      "19 [1053298008.1102934, 304451458.0907381, 58531301.27757579, 29001019.993354958, 15648698.568920119, 9899740.919238245, 7050695.285163904, 5996840.082841263, 5967652.716621135, 5675025.149410281, 5537276.174419092, 5532976.299748272, 5358818.734882958, 5321451.343627482, 5300444.224094604, 3924913.5005194326, 3910910.555431956, 620267.8726339871, 573989.0172130412]\n",
      "20 [1053298008.1102934, 304451458.0907381, 58531301.27757579, 29001019.993354958, 15648698.568920119, 9899740.919238245, 7050695.285163904, 5996840.082841263, 5967652.716621135, 5675025.149410281, 5537276.174419092, 5532976.299748272, 5358818.734882958, 5321451.343627482, 5300444.224094604, 3924913.5005194326, 3910910.555431956, 620267.8726339871, 573989.0172130412, 552645.1136234924]\n",
      "21 [1053298008.1102934, 304451458.0907381, 58531301.27757579, 29001019.993354958, 15648698.568920119, 9899740.919238245, 7050695.285163904, 5996840.082841263, 5967652.716621135, 5675025.149410281, 5537276.174419092, 5532976.299748272, 5358818.734882958, 5321451.343627482, 5300444.224094604, 3924913.5005194326, 3910910.555431956, 620267.8726339871, 573989.0172130412, 552645.1136234924, 549405.9199780141]\n",
      "22 [1053298008.1102934, 304451458.0907381, 58531301.27757579, 29001019.993354958, 15648698.568920119, 9899740.919238245, 7050695.285163904, 5996840.082841263, 5967652.716621135, 5675025.149410281, 5537276.174419092, 5532976.299748272, 5358818.734882958, 5321451.343627482, 5300444.224094604, 3924913.5005194326, 3910910.555431956, 620267.8726339871, 573989.0172130412, 552645.1136234924, 549405.9199780141, 404149.87343106995]\n",
      "23 [1053298008.1102934, 304451458.0907381, 58531301.27757579, 29001019.993354958, 15648698.568920119, 9899740.919238245, 7050695.285163904, 5996840.082841263, 5967652.716621135, 5675025.149410281, 5537276.174419092, 5532976.299748272, 5358818.734882958, 5321451.343627482, 5300444.224094604, 3924913.5005194326, 3910910.555431956, 620267.8726339871, 573989.0172130412, 552645.1136234924, 549405.9199780141, 404149.87343106995, 106932.65275314933]\n",
      "24 [1053298008.1102934, 304451458.0907381, 58531301.27757579, 29001019.993354958, 15648698.568920119, 9899740.919238245, 7050695.285163904, 5996840.082841263, 5967652.716621135, 5675025.149410281, 5537276.174419092, 5532976.299748272, 5358818.734882958, 5321451.343627482, 5300444.224094604, 3924913.5005194326, 3910910.555431956, 620267.8726339871, 573989.0172130412, 552645.1136234924, 549405.9199780141, 404149.87343106995, 106932.65275314933, 75050.49049823807]\n",
      "25 [1053298008.1102934, 304451458.0907381, 58531301.27757579, 29001019.993354958, 15648698.568920119, 9899740.919238245, 7050695.285163904, 5996840.082841263, 5967652.716621135, 5675025.149410281, 5537276.174419092, 5532976.299748272, 5358818.734882958, 5321451.343627482, 5300444.224094604, 3924913.5005194326, 3910910.555431956, 620267.8726339871, 573989.0172130412, 552645.1136234924, 549405.9199780141, 404149.87343106995, 106932.65275314933, 75050.49049823807, 69681.86546310605]\n",
      "26 [1053298008.1102934, 304451458.0907381, 58531301.27757579, 29001019.993354958, 15648698.568920119, 9899740.919238245, 7050695.285163904, 5996840.082841263, 5967652.716621135, 5675025.149410281, 5537276.174419092, 5532976.299748272, 5358818.734882958, 5321451.343627482, 5300444.224094604, 3924913.5005194326, 3910910.555431956, 620267.8726339871, 573989.0172130412, 552645.1136234924, 549405.9199780141, 404149.87343106995, 106932.65275314933, 75050.49049823807, 69681.86546310605, 68734.97061152227]\n",
      "27 [1053298008.1102934, 304451458.0907381, 58531301.27757579, 29001019.993354958, 15648698.568920119, 9899740.919238245, 7050695.285163904, 5996840.082841263, 5967652.716621135, 5675025.149410281, 5537276.174419092, 5532976.299748272, 5358818.734882958, 5321451.343627482, 5300444.224094604, 3924913.5005194326, 3910910.555431956, 620267.8726339871, 573989.0172130412, 552645.1136234924, 549405.9199780141, 404149.87343106995, 106932.65275314933, 75050.49049823807, 69681.86546310605, 68734.97061152227, 64032.981840098386]\n",
      "28 [1053298008.1102934, 304451458.0907381, 58531301.27757579, 29001019.993354958, 15648698.568920119, 9899740.919238245, 7050695.285163904, 5996840.082841263, 5967652.716621135, 5675025.149410281, 5537276.174419092, 5532976.299748272, 5358818.734882958, 5321451.343627482, 5300444.224094604, 3924913.5005194326, 3910910.555431956, 620267.8726339871, 573989.0172130412, 552645.1136234924, 549405.9199780141, 404149.87343106995, 106932.65275314933, 75050.49049823807, 69681.86546310605, 68734.97061152227, 64032.981840098386, 29403.35390482636]\n",
      "29 [1053298008.1102934, 304451458.0907381, 58531301.27757579, 29001019.993354958, 15648698.568920119, 9899740.919238245, 7050695.285163904, 5996840.082841263, 5967652.716621135, 5675025.149410281, 5537276.174419092, 5532976.299748272, 5358818.734882958, 5321451.343627482, 5300444.224094604, 3924913.5005194326, 3910910.555431956, 620267.8726339871, 573989.0172130412, 552645.1136234924, 549405.9199780141, 404149.87343106995, 106932.65275314933, 75050.49049823807, 69681.86546310605, 68734.97061152227, 64032.981840098386, 29403.35390482636, 18832.14283906325]\n",
      "30 [1053298008.1102934, 304451458.0907381, 58531301.27757579, 29001019.993354958, 15648698.568920119, 9899740.919238245, 7050695.285163904, 5996840.082841263, 5967652.716621135, 5675025.149410281, 5537276.174419092, 5532976.299748272, 5358818.734882958, 5321451.343627482, 5300444.224094604, 3924913.5005194326, 3910910.555431956, 620267.8726339871, 573989.0172130412, 552645.1136234924, 549405.9199780141, 404149.87343106995, 106932.65275314933, 75050.49049823807, 69681.86546310605, 68734.97061152227, 64032.981840098386, 29403.35390482636, 18832.14283906325, 14259.83392398112]\n",
      "31 [1053298008.1102934, 304451458.0907381, 58531301.27757579, 29001019.993354958, 15648698.568920119, 9899740.919238245, 7050695.285163904, 5996840.082841263, 5967652.716621135, 5675025.149410281, 5537276.174419092, 5532976.299748272, 5358818.734882958, 5321451.343627482, 5300444.224094604, 3924913.5005194326, 3910910.555431956, 620267.8726339871, 573989.0172130412, 552645.1136234924, 549405.9199780141, 404149.87343106995, 106932.65275314933, 75050.49049823807, 69681.86546310605, 68734.97061152227, 64032.981840098386, 29403.35390482636, 18832.14283906325, 14259.83392398112, 13312.939072397345]\n",
      "32 [1053298008.1102934, 304451458.0907381, 58531301.27757579, 29001019.993354958, 15648698.568920119, 9899740.919238245, 7050695.285163904, 5996840.082841263, 5967652.716621135, 5675025.149410281, 5537276.174419092, 5532976.299748272, 5358818.734882958, 5321451.343627482, 5300444.224094604, 3924913.5005194326, 3910910.555431956, 620267.8726339871, 573989.0172130412, 552645.1136234924, 549405.9199780141, 404149.87343106995, 106932.65275314933, 75050.49049823807, 69681.86546310605, 68734.97061152227, 64032.981840098386, 29403.35390482636, 18832.14283906325, 14259.83392398112, 13312.939072397345, 4888.929407136728]\n",
      "33 [1053298008.1102934, 304451458.0907381, 58531301.27757579, 29001019.993354958, 15648698.568920119, 9899740.919238245, 7050695.285163904, 5996840.082841263, 5967652.716621135, 5675025.149410281, 5537276.174419092, 5532976.299748272, 5358818.734882958, 5321451.343627482, 5300444.224094604, 3924913.5005194326, 3910910.555431956, 620267.8726339871, 573989.0172130412, 552645.1136234924, 549405.9199780141, 404149.87343106995, 106932.65275314933, 75050.49049823807, 69681.86546310605, 68734.97061152227, 64032.981840098386, 29403.35390482636, 18832.14283906325, 14259.83392398112, 13312.939072397345, 4888.929407136728, 84.6679291910912]\n",
      "34 [1053298008.1102934, 304451458.0907381, 58531301.27757579, 29001019.993354958, 15648698.568920119, 9899740.919238245, 7050695.285163904, 5996840.082841263, 5967652.716621135, 5675025.149410281, 5537276.174419092, 5532976.299748272, 5358818.734882958, 5321451.343627482, 5300444.224094604, 3924913.5005194326, 3910910.555431956, 620267.8726339871, 573989.0172130412, 552645.1136234924, 549405.9199780141, 404149.87343106995, 106932.65275314933, 75050.49049823807, 69681.86546310605, 68734.97061152227, 64032.981840098386, 29403.35390482636, 18832.14283906325, 14259.83392398112, 13312.939072397345, 4888.929407136728, 84.6679291910912, 0.0]\n"
     ]
    }
   ],
   "source": [
    "distortions = []\n",
    "for i in range(1, 35):\n",
    "    kmeans = KMeans(\n",
    "        n_clusters=i, init='random',\n",
    "        n_init=10, max_iter=300,\n",
    "        tol=1e-04, random_state=0\n",
    "    )\n",
    "    kmeans.fit(X)\n",
    "    distortions.append(kmeans.inertia_)\n",
    "    print(i, distortions)\n"
   ]
  },
  {
   "cell_type": "code",
   "execution_count": 10,
   "id": "b3e1aa84-1860-4cfe-9b68-e14269c4efcc",
   "metadata": {},
   "outputs": [
    {
     "data": {
      "text/plain": [
       "3"
      ]
     },
     "execution_count": 10,
     "metadata": {},
     "output_type": "execute_result"
    }
   ],
   "source": [
    "kl = KneeLocator(range(1, 35), distortions, curve=\"convex\", direction=\"decreasing\")\n",
    "kl.elbow"
   ]
  },
  {
   "cell_type": "code",
   "execution_count": 11,
   "id": "d09e1d45-ff74-4a1d-a9d4-67e49563052a",
   "metadata": {},
   "outputs": [
    {
     "data": {
      "image/png": "[encoded data removed]",
      "text/plain": [
       "<Figure size 432x288 with 1 Axes>"
      ]
     },
     "metadata": {
      "needs_background": "light"
     },
     "output_type": "display_data"
    }
   ],
   "source": [
    "plt.plot(range(1, 35), distortions, marker='o')\n",
    "plt.xlabel('Number of clusters')\n",
    "plt.ylabel('Distortion')\n",
    "plt.show()"
   ]
  },
  {
   "cell_type": "code",
   "execution_count": 13,
   "id": "3fa1e763-4823-412c-b94a-7a7f280d3752",
   "metadata": {},
   "outputs": [
    {
     "name": "stdout",
     "output_type": "stream",
     "text": [
      "Davies Bouldin Score: 0.07803877309220124\n",
      "Calinski Harabasz Score: 78.70906498823159\n",
      "Silhouette Score: 0.8586619588202701\n"
     ]
    }
   ],
   "source": [
    "from sklearn.metrics import davies_bouldin_score\n",
    "from sklearn.metrics import calinski_harabasz_score\n",
    "from sklearn.metrics import silhouette_score\n",
    "\n",
    "print(\"Davies Bouldin Score:\", davies_bouldin_score(X, labels))\n",
    "print(\"Calinski Harabasz Score:\", calinski_harabasz_score(X, labels))\n",
    "print(\"Silhouette Score:\", silhouette_score(X, labels))"
   ]
  },
  {
   "cell_type": "code",
   "execution_count": null,
   "id": "2a5981a2-2c34-4e12-86ab-5e70453781e7",
   "metadata": {},
   "outputs": [],
   "source": []
  }
 ],
 "metadata": {
  "kernelspec": {
   "display_name": "Python 3 (ipykernel)",
   "language": "python",
   "name": "python3"
  },
  "language_info": {
   "codemirror_mode": {
    "name": "ipython",
    "version": 3
   },
   "file_extension": ".py",
   "mimetype": "text/x-python",
   "name": "python",
   "nbconvert_exporter": "python",
   "pygments_lexer": "ipython3",
   "version": "3.9.12"
  }
 },
 "nbformat": 4,
 "nbformat_minor": 5
}
